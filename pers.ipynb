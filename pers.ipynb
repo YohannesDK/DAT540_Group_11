{
 "cells": [
  {
   "cell_type": "code",
   "execution_count": 33,
   "source": [
    "from imports import *\r\n",
    "%run imports.py"
   ],
   "outputs": [
    {
     "output_type": "stream",
     "name": "stdout",
     "text": [
      "Import Done\n"
     ]
    }
   ],
   "metadata": {}
  },
  {
   "cell_type": "code",
   "execution_count": 152,
   "source": [
    "# read the data\r\n",
    "plant1 = pd.read_csv(\"Plant_1_Generation_Data.csv\")\r\n",
    "weather1 = pd.read_csv(\"Plant_1_Weather_Sensor_Data.csv\")\r\n",
    "\r\n",
    "\r\n",
    "# format DATE_TIME column into datetime object\r\n",
    "plant1['DATE_TIME'] = pd.to_datetime(plant1['DATE_TIME'])\r\n",
    "weather1['DATE_TIME'] = pd.to_datetime(weather1['DATE_TIME'])"
   ],
   "outputs": [],
   "metadata": {}
  },
  {
   "cell_type": "code",
   "execution_count": 153,
   "source": [
    "df_weather = weather1.drop(['PLANT_ID', 'SOURCE_KEY'], axis=1)\r\n",
    "df_plant1 = plant1.drop(['PLANT_ID'], axis=1)\r\n",
    "df_plant_weather1 = df_plant1.merge(df_weather, on=\"DATE_TIME\")"
   ],
   "outputs": [],
   "metadata": {}
  },
  {
   "cell_type": "code",
   "execution_count": 155,
   "source": [
    "if df_plant_weather1.index.name != 'DATE_TIME':\r\n",
    "    df_plant_weather1.set_index('DATE_TIME', inplace=True)\r\n",
    "\r\n",
    "if \"SOURCE_KEY\" in df_plant_weather1.columns:\r\n",
    "    df_plant_weather1.drop([\"SOURCE_KEY\"], axis=1, inplace=True)\r\n"
   ],
   "outputs": [],
   "metadata": {}
  },
  {
   "cell_type": "code",
   "execution_count": 168,
   "source": [
    "# df_plant_weather1[\"DC_POWER_1\"] = df_plant_weather1.groupby([\"SOURCE_KEY\", pd.Grouper(freq=\"H\")])[\"DC_POWER\"].shift(freq=\"D\", periods=1).reset_index(drop=True)\r\n",
    "# df_plant_weather1.index.day\r\n",
    "# df_plant_weather1[\"DC_POWER_1\"] = df_plant_weather1.groupby([\"SOURCE_KEY\"])[\"DC_POWER\"].shift(freq=\"D\", periods=1).reset_index(drop=True)\r\n"
   ],
   "outputs": [],
   "metadata": {}
  },
  {
   "cell_type": "code",
   "execution_count": 171,
   "source": [
    "baseline = df_plant_weather1.groupby([pd.to_datetime(df_plant_weather1.index.hour), pd.to_datetime(df_plant_weather1.index.minute)])[\"DC_POWER\"].mean()\r\n",
    "df = pd.DataFrame(baseline)\r\n",
    "df.plot()\r\n"
   ],
   "outputs": [
    {
     "output_type": "execute_result",
     "data": {
      "text/plain": [
       "<AxesSubplot:xlabel='DATE_TIME,DATE_TIME'>"
      ]
     },
     "metadata": {},
     "execution_count": 171
    },
    {
     "output_type": "display_data",
     "data": {
      "image/png": "[encoded data removed]",
      "text/plain": [
       "<Figure size 432x288 with 1 Axes>"
      ]
     },
     "metadata": {
      "needs_background": "light"
     }
    }
   ],
   "metadata": {}
  },
  {
   "cell_type": "code",
   "execution_count": 151,
   "source": [
    "df_plant_weather1.isnull().sum() / df_plant_weather1.shape[0] * 100"
   ],
   "outputs": [
    {
     "output_type": "execute_result",
     "data": {
      "text/plain": [
       "SOURCE_KEY               0.0\n",
       "DC_POWER                 0.0\n",
       "AC_POWER                 0.0\n",
       "DAILY_YIELD              0.0\n",
       "TOTAL_YIELD              0.0\n",
       "AMBIENT_TEMPERATURE      0.0\n",
       "MODULE_TEMPERATURE       0.0\n",
       "IRRADIATION              0.0\n",
       "DC_POWER_1             100.0\n",
       "dtype: float64"
      ]
     },
     "metadata": {},
     "execution_count": 151
    }
   ],
   "metadata": {}
  },
  {
   "cell_type": "code",
   "execution_count": 130,
   "source": [
    "# df_Test = df_plant_weather1.loc[df_plant_weather1.SOURCE_KEY == \"1BY6WEcLGh8j5v7\"]\r\n",
    "# df_Test.to_csv('test.csv')"
   ],
   "outputs": [],
   "metadata": {}
  },
  {
   "cell_type": "code",
   "execution_count": 13,
   "source": [
    "from sklearn.model_selection import train_test_split\r\n",
    "\r\n",
    "# split the data into training and testing sets using TimeSeriesSplit, 80% training, 20% testing\r\n",
    "\r\n",
    "X_train, X_test, y_train, y_test = train_test_split(df_plant_weather1.index, df_plant_weather1, test_size=0.2, shuffle=False)"
   ],
   "outputs": [],
   "metadata": {}
  },
  {
   "cell_type": "code",
   "execution_count": null,
   "source": [],
   "outputs": [],
   "metadata": {}
  }
 ],
 "metadata": {
  "orig_nbformat": 4,
  "language_info": {
   "name": "python",
   "version": "3.9.6",
   "mimetype": "text/x-python",
   "codemirror_mode": {
    "name": "ipython",
    "version": 3
   },
   "pygments_lexer": "ipython3",
   "nbconvert_exporter": "python",
   "file_extension": ".py"
  },
  "kernelspec": {
   "name": "python3",
   "display_name": "Python 3.9.6 64-bit ('venv': venv)"
  },
  "interpreter": {
   "hash": "ff8b008da7a31bb59aac835c10783dcbad21c495f5d56ff135638213bd8f53bc"
  }
 },
 "nbformat": 4,
 "nbformat_minor": 2
}