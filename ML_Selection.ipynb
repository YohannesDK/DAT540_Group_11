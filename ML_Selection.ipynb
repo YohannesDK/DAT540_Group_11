{
 "cells": [
  {
   "cell_type": "markdown",
   "source": [
    "# Analysis and Selection of ML model\r\n",
    "**Can we predict the power generation for next couple of days? - this allows for better grid management**"
   ],
   "metadata": {}
  },
  {
   "cell_type": "code",
   "execution_count": 1,
   "source": [
    "import pandas as pd\r\n",
    "import numpy as np\r\n",
    "import matplotlib.pyplot as plt\r\n",
    "\r\n",
    "\r\n",
    "# plant 1 - Power Generation data\r\n",
    "gd = pd.read_csv('Plant_1_Generation_Data.csv')\r\n",
    "\r\n",
    "# plant 1 - Weather Sensor data\r\n",
    "ws = pd.read_csv('Plant_1_Weather_Sensor_Data.csv')"
   ],
   "outputs": [],
   "metadata": {}
  },
  {
   "cell_type": "markdown",
   "source": [
    "## Features to consider when choosing ML model\r\n",
    "  1. Size of training data\r\n",
    "  2. Accuracy and/or Interpretability of the output\r\n",
    "  3. Speed or Training time\r\n",
    "  4. Linearity\r\n",
    "  5. Number of features"
   ],
   "metadata": {}
  },
  {
   "cell_type": "markdown",
   "source": [
    "If we where to only consider the **size of the data**, then we se that the data is not too large,\r\n",
    "and we should focus on choosing a algorithm with high bias and low variance, like **Linear regression**"
   ],
   "metadata": {}
  },
  {
   "cell_type": "code",
   "execution_count": 2,
   "source": [
    "# take a look at the size of the data\r\n",
    "print(gd.shape)\r\n",
    "print(ws.shape)"
   ],
   "outputs": [
    {
     "output_type": "stream",
     "name": "stdout",
     "text": [
      "(68778, 7)\n",
      "(3182, 6)\n"
     ]
    }
   ],
   "metadata": {}
  },
  {
   "cell_type": "markdown",
   "source": [
    "Our next consideration is **Accuracy (and/or) Interpretabilty**.\r\n",
    "\r\n",
    "Accuracy of a model means that the function predicts a response value for a given observation,\r\n",
    "which is close to the true response value for that observation.\r\n",
    "\r\n",
    "While a more interpretable model one can easily understand how any individual predictor is associated with the response.\r\n",
    "\r\n",
    "If **inference** is the goal, then restrictive models (like **Linear / Logistic regression**) are better as they are much more interpretable.\r\n",
    "\r\n",
    "In our case we are predicting power generation for the coming few days.\r\n",
    "Now if our goal is better grid management, then we would\r\n",
    "to choose a more accurate model, over a interpretable one. (Like **SVM** or **Random Forest**)\r\n"
   ],
   "metadata": {}
  },
  {
   "cell_type": "code",
   "execution_count": 3,
   "source": [
    "# accuracy and(/or) Interpretation of the data\r\n",
    "\r\n",
    "# take a look at the features of each data set\r\n",
    "print(gd.columns)\r\n",
    "print(ws.columns)\r\n",
    "\r\n",
    "# and take a look at the first few rows, in each data set\r\n",
    "print(gd.head())\r\n",
    "print(ws.head())"
   ],
   "outputs": [
    {
     "output_type": "stream",
     "name": "stdout",
     "text": [
      "Index(['DATE_TIME', 'PLANT_ID', 'SOURCE_KEY', 'DC_POWER', 'AC_POWER',\n",
      "       'DAILY_YIELD', 'TOTAL_YIELD'],\n",
      "      dtype='object')\n",
      "Index(['DATE_TIME', 'PLANT_ID', 'SOURCE_KEY', 'AMBIENT_TEMPERATURE',\n",
      "       'MODULE_TEMPERATURE', 'IRRADIATION'],\n",
      "      dtype='object')\n",
      "          DATE_TIME  PLANT_ID       SOURCE_KEY  DC_POWER  AC_POWER  \\\n",
      "0  15-05-2020 00:00   4135001  1BY6WEcLGh8j5v7       0.0       0.0   \n",
      "1  15-05-2020 00:00   4135001  1IF53ai7Xc0U56Y       0.0       0.0   \n",
      "2  15-05-2020 00:00   4135001  3PZuoBAID5Wc2HD       0.0       0.0   \n",
      "3  15-05-2020 00:00   4135001  7JYdWkrLSPkdwr4       0.0       0.0   \n",
      "4  15-05-2020 00:00   4135001  McdE0feGgRqW7Ca       0.0       0.0   \n",
      "\n",
      "   DAILY_YIELD  TOTAL_YIELD  \n",
      "0          0.0    6259559.0  \n",
      "1          0.0    6183645.0  \n",
      "2          0.0    6987759.0  \n",
      "3          0.0    7602960.0  \n",
      "4          0.0    7158964.0  \n",
      "             DATE_TIME  PLANT_ID       SOURCE_KEY  AMBIENT_TEMPERATURE  \\\n",
      "0  2020-05-15 00:00:00   4135001  HmiyD2TTLFNqkNe            25.184316   \n",
      "1  2020-05-15 00:15:00   4135001  HmiyD2TTLFNqkNe            25.084589   \n",
      "2  2020-05-15 00:30:00   4135001  HmiyD2TTLFNqkNe            24.935753   \n",
      "3  2020-05-15 00:45:00   4135001  HmiyD2TTLFNqkNe            24.846130   \n",
      "4  2020-05-15 01:00:00   4135001  HmiyD2TTLFNqkNe            24.621525   \n",
      "\n",
      "   MODULE_TEMPERATURE  IRRADIATION  \n",
      "0           22.857507          0.0  \n",
      "1           22.761668          0.0  \n",
      "2           22.592306          0.0  \n",
      "3           22.360852          0.0  \n",
      "4           22.165423          0.0  \n"
     ]
    }
   ],
   "metadata": {}
  },
  {
   "cell_type": "markdown",
   "source": [
    "\r\n",
    "Our next consideration is **Speed or Training Time**.\r\n",
    "Accuracy often involved longer training time. If we would go for a more accurate model such as\r\n",
    "SVM, then our training time would be noticeably larger then if we where to choose an algorithm like \r\n",
    "linear regression.\r\n",
    "\r\n",
    "In our case we would not be affected that much of choosing a more accurate model since our data is not to large."
   ],
   "metadata": {}
  },
  {
   "cell_type": "markdown",
   "source": [
    "Our next consideration is **Linearity**.\r\n",
    "Algorithms such as logistic regression and SVM work on the assumption that the classes\r\n",
    "can be separated by a straight line (or its higher-dimensional analog).\r\n",
    "\r\n",
    "We need to check for linearity before going for a accurate model such as \r\n",
    "Linear/Logistic Regression or a more interpretable one like SVM, in which both can suffer to linearity."
   ],
   "metadata": {}
  },
  {
   "cell_type": "code",
   "execution_count": 7,
   "source": [
    "# check for linearity in both data sets by plotting the data, \r\n",
    "# and fitting a linear line and checking for residual error.\r\n",
    "\r\n",
    "# create a figure\r\n",
    "fig = plt.figure()"
   ],
   "outputs": [
    {
     "output_type": "display_data",
     "data": {
      "text/plain": [
       "<Figure size 432x288 with 0 Axes>"
      ]
     },
     "metadata": {}
    }
   ],
   "metadata": {}
  },
  {
   "cell_type": "markdown",
   "source": [
    "Our next and last consideration is **Number of features**.\r\n"
   ],
   "metadata": {}
  },
  {
   "cell_type": "markdown",
   "source": [
    "## Conclusion\r\n"
   ],
   "metadata": {}
  }
 ],
 "metadata": {
  "orig_nbformat": 4,
  "language_info": {
   "name": "python",
   "version": "3.9.6",
   "mimetype": "text/x-python",
   "codemirror_mode": {
    "name": "ipython",
    "version": 3
   },
   "pygments_lexer": "ipython3",
   "nbconvert_exporter": "python",
   "file_extension": ".py"
  },
  "kernelspec": {
   "name": "python3",
   "display_name": "Python 3.9.6 64-bit"
  },
  "interpreter": {
   "hash": "63fd5069d213b44bf678585dea6b12cceca9941eaf7f819626cde1f2670de90d"
  }
 },
 "nbformat": 4,
 "nbformat_minor": 2
}