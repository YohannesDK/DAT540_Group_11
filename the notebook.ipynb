{
 "cells": [
  {
   "cell_type": "code",
<<<<<<< HEAD
   "execution_count": 13,
   "metadata": {},
   "outputs": [],
   "source": [
    "# To plot pretty figures\n",
    "%matplotlib inline\n",
    "import matplotlib as mpl\n",
    "import matplotlib.pyplot as plt\n",
    "mpl.rc('axes', labelsize=14)\n",
    "mpl.rc('xtick', labelsize=12)\n",
    "mpl.rc('ytick', labelsize=12)"
   ]
  },
  {
   "cell_type": "code",
   "execution_count": 12,
   "metadata": {},
   "outputs": [
    {
     "data": {
      "text/html": [
       "<div>\n",
       "<style scoped>\n",
       "    .dataframe tbody tr th:only-of-type {\n",
       "        vertical-align: middle;\n",
       "    }\n",
       "\n",
       "    .dataframe tbody tr th {\n",
       "        vertical-align: top;\n",
       "    }\n",
       "\n",
       "    .dataframe thead th {\n",
       "        text-align: right;\n",
       "    }\n",
       "</style>\n",
       "<table border=\"1\" class=\"dataframe\">\n",
       "  <thead>\n",
       "    <tr style=\"text-align: right;\">\n",
       "      <th></th>\n",
       "      <th>DATE_TIME</th>\n",
       "      <th>PLANT_ID</th>\n",
       "      <th>SOURCE_KEY</th>\n",
       "      <th>DC_POWER</th>\n",
       "      <th>AC_POWER</th>\n",
       "      <th>DAILY_YIELD</th>\n",
       "      <th>TOTAL_YIELD</th>\n",
       "    </tr>\n",
       "  </thead>\n",
       "  <tbody>\n",
       "    <tr>\n",
       "      <th>0</th>\n",
       "      <td>15-05-2020 00:00</td>\n",
       "      <td>4135001</td>\n",
       "      <td>1BY6WEcLGh8j5v7</td>\n",
       "      <td>0.0</td>\n",
       "      <td>0.0</td>\n",
       "      <td>0.0</td>\n",
       "      <td>6259559.0</td>\n",
       "    </tr>\n",
       "    <tr>\n",
       "      <th>1</th>\n",
       "      <td>15-05-2020 00:00</td>\n",
       "      <td>4135001</td>\n",
       "      <td>1IF53ai7Xc0U56Y</td>\n",
       "      <td>0.0</td>\n",
       "      <td>0.0</td>\n",
       "      <td>0.0</td>\n",
       "      <td>6183645.0</td>\n",
       "    </tr>\n",
       "    <tr>\n",
       "      <th>2</th>\n",
       "      <td>15-05-2020 00:00</td>\n",
       "      <td>4135001</td>\n",
       "      <td>3PZuoBAID5Wc2HD</td>\n",
       "      <td>0.0</td>\n",
       "      <td>0.0</td>\n",
       "      <td>0.0</td>\n",
       "      <td>6987759.0</td>\n",
       "    </tr>\n",
       "    <tr>\n",
       "      <th>3</th>\n",
       "      <td>15-05-2020 00:00</td>\n",
       "      <td>4135001</td>\n",
       "      <td>7JYdWkrLSPkdwr4</td>\n",
       "      <td>0.0</td>\n",
       "      <td>0.0</td>\n",
       "      <td>0.0</td>\n",
       "      <td>7602960.0</td>\n",
       "    </tr>\n",
       "    <tr>\n",
       "      <th>4</th>\n",
       "      <td>15-05-2020 00:00</td>\n",
       "      <td>4135001</td>\n",
       "      <td>McdE0feGgRqW7Ca</td>\n",
       "      <td>0.0</td>\n",
       "      <td>0.0</td>\n",
       "      <td>0.0</td>\n",
       "      <td>7158964.0</td>\n",
       "    </tr>\n",
       "  </tbody>\n",
       "</table>\n",
       "</div>"
      ],
      "text/plain": [
       "          DATE_TIME  PLANT_ID       SOURCE_KEY  DC_POWER  AC_POWER  \\\n",
       "0  15-05-2020 00:00   4135001  1BY6WEcLGh8j5v7       0.0       0.0   \n",
       "1  15-05-2020 00:00   4135001  1IF53ai7Xc0U56Y       0.0       0.0   \n",
       "2  15-05-2020 00:00   4135001  3PZuoBAID5Wc2HD       0.0       0.0   \n",
       "3  15-05-2020 00:00   4135001  7JYdWkrLSPkdwr4       0.0       0.0   \n",
       "4  15-05-2020 00:00   4135001  McdE0feGgRqW7Ca       0.0       0.0   \n",
       "\n",
       "   DAILY_YIELD  TOTAL_YIELD  \n",
       "0          0.0    6259559.0  \n",
       "1          0.0    6183645.0  \n",
       "2          0.0    6987759.0  \n",
       "3          0.0    7602960.0  \n",
       "4          0.0    7158964.0  "
      ]
     },
     "execution_count": 12,
     "metadata": {},
     "output_type": "execute_result"
    }
   ],
   "source": [
    "import pandas as pd\n",
    "#plant = get_df([\"../input/solar-power-generation-data/Plant_{}_Generation_Data.csv\".format(i) for i in range(1,3)], parse_dates=[\"DATE_TIME\"])\n",
    "plant1 = pd.read_csv(\"Plant_1_Generation_Data.csv\")\n",
    "plant1.head()\n"
   ]
  },
  {
   "cell_type": "code",
   "execution_count": null,
   "metadata": {},
   "outputs": [],
   "source": []
  },
  {
   "cell_type": "code",
   "execution_count": 8,
   "metadata": {},
   "outputs": [
    {
     "data": {
      "text/html": [
       "<div>\n",
       "<style scoped>\n",
       "    .dataframe tbody tr th:only-of-type {\n",
       "        vertical-align: middle;\n",
       "    }\n",
       "\n",
       "    .dataframe tbody tr th {\n",
       "        vertical-align: top;\n",
       "    }\n",
       "\n",
       "    .dataframe thead th {\n",
       "        text-align: right;\n",
       "    }\n",
       "</style>\n",
       "<table border=\"1\" class=\"dataframe\">\n",
       "  <thead>\n",
       "    <tr style=\"text-align: right;\">\n",
       "      <th></th>\n",
       "      <th>DATE_TIME</th>\n",
       "      <th>PLANT_ID</th>\n",
       "      <th>SOURCE_KEY</th>\n",
       "      <th>DC_POWER</th>\n",
       "      <th>AC_POWER</th>\n",
       "      <th>DAILY_YIELD</th>\n",
       "      <th>TOTAL_YIELD</th>\n",
       "    </tr>\n",
       "  </thead>\n",
       "  <tbody>\n",
       "    <tr>\n",
       "      <th>0</th>\n",
       "      <td>2020-05-15 00:00:00</td>\n",
       "      <td>4136001</td>\n",
       "      <td>4UPUqMRk7TRMgml</td>\n",
       "      <td>0.0</td>\n",
       "      <td>0.0</td>\n",
       "      <td>9425.000000</td>\n",
       "      <td>2.429011e+06</td>\n",
       "    </tr>\n",
       "    <tr>\n",
       "      <th>1</th>\n",
       "      <td>2020-05-15 00:00:00</td>\n",
       "      <td>4136001</td>\n",
       "      <td>81aHJ1q11NBPMrL</td>\n",
       "      <td>0.0</td>\n",
       "      <td>0.0</td>\n",
       "      <td>0.000000</td>\n",
       "      <td>1.215279e+09</td>\n",
       "    </tr>\n",
       "    <tr>\n",
       "      <th>2</th>\n",
       "      <td>2020-05-15 00:00:00</td>\n",
       "      <td>4136001</td>\n",
       "      <td>9kRcWv60rDACzjR</td>\n",
       "      <td>0.0</td>\n",
       "      <td>0.0</td>\n",
       "      <td>3075.333333</td>\n",
       "      <td>2.247720e+09</td>\n",
       "    </tr>\n",
       "    <tr>\n",
       "      <th>3</th>\n",
       "      <td>2020-05-15 00:00:00</td>\n",
       "      <td>4136001</td>\n",
       "      <td>Et9kgGMDl729KT4</td>\n",
       "      <td>0.0</td>\n",
       "      <td>0.0</td>\n",
       "      <td>269.933333</td>\n",
       "      <td>1.704250e+06</td>\n",
       "    </tr>\n",
       "    <tr>\n",
       "      <th>4</th>\n",
       "      <td>2020-05-15 00:00:00</td>\n",
       "      <td>4136001</td>\n",
       "      <td>IQ2d7wF4YD8zU1Q</td>\n",
       "      <td>0.0</td>\n",
       "      <td>0.0</td>\n",
       "      <td>3177.000000</td>\n",
       "      <td>1.994153e+07</td>\n",
       "    </tr>\n",
       "  </tbody>\n",
       "</table>\n",
       "</div>"
      ],
      "text/plain": [
       "             DATE_TIME  PLANT_ID       SOURCE_KEY  DC_POWER  AC_POWER  \\\n",
       "0  2020-05-15 00:00:00   4136001  4UPUqMRk7TRMgml       0.0       0.0   \n",
       "1  2020-05-15 00:00:00   4136001  81aHJ1q11NBPMrL       0.0       0.0   \n",
       "2  2020-05-15 00:00:00   4136001  9kRcWv60rDACzjR       0.0       0.0   \n",
       "3  2020-05-15 00:00:00   4136001  Et9kgGMDl729KT4       0.0       0.0   \n",
       "4  2020-05-15 00:00:00   4136001  IQ2d7wF4YD8zU1Q       0.0       0.0   \n",
       "\n",
       "   DAILY_YIELD   TOTAL_YIELD  \n",
       "0  9425.000000  2.429011e+06  \n",
       "1     0.000000  1.215279e+09  \n",
       "2  3075.333333  2.247720e+09  \n",
       "3   269.933333  1.704250e+06  \n",
       "4  3177.000000  1.994153e+07  "
      ]
     },
     "execution_count": 8,
     "metadata": {},
     "output_type": "execute_result"
    }
   ],
   "source": [
    "plant2 = pd.read_csv(\"Plant_2_Generation_Data.csv\")\n",
    "plant2.head()"
   ]
  },
  {
   "cell_type": "code",
   "execution_count": 9,
   "metadata": {},
   "outputs": [
    {
     "data": {
      "text/html": [
       "<div>\n",
       "<style scoped>\n",
       "    .dataframe tbody tr th:only-of-type {\n",
       "        vertical-align: middle;\n",
       "    }\n",
       "\n",
       "    .dataframe tbody tr th {\n",
       "        vertical-align: top;\n",
       "    }\n",
       "\n",
       "    .dataframe thead th {\n",
       "        text-align: right;\n",
       "    }\n",
       "</style>\n",
       "<table border=\"1\" class=\"dataframe\">\n",
       "  <thead>\n",
       "    <tr style=\"text-align: right;\">\n",
       "      <th></th>\n",
       "      <th>PLANT_ID</th>\n",
       "      <th>DC_POWER</th>\n",
       "      <th>AC_POWER</th>\n",
       "      <th>DAILY_YIELD</th>\n",
       "      <th>TOTAL_YIELD</th>\n",
       "    </tr>\n",
       "  </thead>\n",
       "  <tbody>\n",
       "    <tr>\n",
       "      <th>count</th>\n",
       "      <td>68778.0</td>\n",
       "      <td>68778.000000</td>\n",
       "      <td>68778.000000</td>\n",
       "      <td>68778.000000</td>\n",
       "      <td>6.877800e+04</td>\n",
       "    </tr>\n",
       "    <tr>\n",
       "      <th>mean</th>\n",
       "      <td>4135001.0</td>\n",
       "      <td>3147.426211</td>\n",
       "      <td>307.802752</td>\n",
       "      <td>3295.968737</td>\n",
       "      <td>6.978712e+06</td>\n",
       "    </tr>\n",
       "    <tr>\n",
       "      <th>std</th>\n",
       "      <td>0.0</td>\n",
       "      <td>4036.457169</td>\n",
       "      <td>394.396439</td>\n",
       "      <td>3145.178309</td>\n",
       "      <td>4.162720e+05</td>\n",
       "    </tr>\n",
       "    <tr>\n",
       "      <th>min</th>\n",
       "      <td>4135001.0</td>\n",
       "      <td>0.000000</td>\n",
       "      <td>0.000000</td>\n",
       "      <td>0.000000</td>\n",
       "      <td>6.183645e+06</td>\n",
       "    </tr>\n",
       "    <tr>\n",
       "      <th>25%</th>\n",
       "      <td>4135001.0</td>\n",
       "      <td>0.000000</td>\n",
       "      <td>0.000000</td>\n",
       "      <td>0.000000</td>\n",
       "      <td>6.512003e+06</td>\n",
       "    </tr>\n",
       "    <tr>\n",
       "      <th>50%</th>\n",
       "      <td>4135001.0</td>\n",
       "      <td>429.000000</td>\n",
       "      <td>41.493750</td>\n",
       "      <td>2658.714286</td>\n",
       "      <td>7.146685e+06</td>\n",
       "    </tr>\n",
       "    <tr>\n",
       "      <th>75%</th>\n",
       "      <td>4135001.0</td>\n",
       "      <td>6366.964286</td>\n",
       "      <td>623.618750</td>\n",
       "      <td>6274.000000</td>\n",
       "      <td>7.268706e+06</td>\n",
       "    </tr>\n",
       "    <tr>\n",
       "      <th>max</th>\n",
       "      <td>4135001.0</td>\n",
       "      <td>14471.125000</td>\n",
       "      <td>1410.950000</td>\n",
       "      <td>9163.000000</td>\n",
       "      <td>7.846821e+06</td>\n",
       "    </tr>\n",
       "  </tbody>\n",
       "</table>\n",
       "</div>"
      ],
      "text/plain": [
       "        PLANT_ID      DC_POWER      AC_POWER   DAILY_YIELD   TOTAL_YIELD\n",
       "count    68778.0  68778.000000  68778.000000  68778.000000  6.877800e+04\n",
       "mean   4135001.0   3147.426211    307.802752   3295.968737  6.978712e+06\n",
       "std          0.0   4036.457169    394.396439   3145.178309  4.162720e+05\n",
       "min    4135001.0      0.000000      0.000000      0.000000  6.183645e+06\n",
       "25%    4135001.0      0.000000      0.000000      0.000000  6.512003e+06\n",
       "50%    4135001.0    429.000000     41.493750   2658.714286  7.146685e+06\n",
       "75%    4135001.0   6366.964286    623.618750   6274.000000  7.268706e+06\n",
       "max    4135001.0  14471.125000   1410.950000   9163.000000  7.846821e+06"
      ]
     },
     "execution_count": 9,
     "metadata": {},
     "output_type": "execute_result"
    }
   ],
   "source": [
    "plant1.describe()"
   ]
  },
  {
   "cell_type": "code",
   "execution_count": 11,
   "metadata": {},
   "outputs": [
    {
     "name": "stdout",
     "output_type": "stream",
     "text": [
      "<class 'pandas.core.frame.DataFrame'>\n",
      "RangeIndex: 68778 entries, 0 to 68777\n",
      "Data columns (total 7 columns):\n",
      " #   Column       Non-Null Count  Dtype  \n",
      "---  ------       --------------  -----  \n",
      " 0   DATE_TIME    68778 non-null  object \n",
      " 1   PLANT_ID     68778 non-null  int64  \n",
      " 2   SOURCE_KEY   68778 non-null  object \n",
      " 3   DC_POWER     68778 non-null  float64\n",
      " 4   AC_POWER     68778 non-null  float64\n",
      " 5   DAILY_YIELD  68778 non-null  float64\n",
      " 6   TOTAL_YIELD  68778 non-null  float64\n",
      "dtypes: float64(4), int64(1), object(2)\n",
      "memory usage: 3.7+ MB\n"
     ]
    }
   ],
   "source": [
    "plant1.info()"
   ]
  },
  {
   "cell_type": "code",
   "execution_count": 15,
   "metadata": {},
   "outputs": [
    {
     "data": {
      "image/png": "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",
      "text/plain": [
       "<Figure size 1440x1080 with 6 Axes>"
      ]
     },
     "metadata": {
      "needs_background": "light"
     },
     "output_type": "display_data"
    }
   ],
   "source": [
    "%matplotlib inline\n",
    "import matplotlib.pyplot as plt\n",
    "plant1.hist(bins=50, figsize=(20,15))\n",
    "#save_fig(\"attribute_histogram_plots\")\n",
    "plt.show()"
   ]
  },
  {
   "cell_type": "code",
   "execution_count": 17,
   "metadata": {},
   "outputs": [
    {
     "data": {
      "text/html": [
       "<div>\n",
       "<style scoped>\n",
       "    .dataframe tbody tr th:only-of-type {\n",
       "        vertical-align: middle;\n",
       "    }\n",
       "\n",
       "    .dataframe tbody tr th {\n",
       "        vertical-align: top;\n",
       "    }\n",
       "\n",
       "    .dataframe thead th {\n",
       "        text-align: right;\n",
       "    }\n",
       "</style>\n",
       "<table border=\"1\" class=\"dataframe\">\n",
       "  <thead>\n",
       "    <tr style=\"text-align: right;\">\n",
       "      <th></th>\n",
       "      <th>DATE_TIME</th>\n",
       "      <th>PLANT_ID</th>\n",
       "      <th>SOURCE_KEY</th>\n",
       "      <th>AMBIENT_TEMPERATURE</th>\n",
       "      <th>MODULE_TEMPERATURE</th>\n",
       "      <th>IRRADIATION</th>\n",
       "    </tr>\n",
       "  </thead>\n",
       "  <tbody>\n",
       "    <tr>\n",
       "      <th>0</th>\n",
       "      <td>2020-05-15 00:00:00</td>\n",
       "      <td>4135001</td>\n",
       "      <td>HmiyD2TTLFNqkNe</td>\n",
       "      <td>25.184316</td>\n",
       "      <td>22.857507</td>\n",
       "      <td>0.0</td>\n",
       "    </tr>\n",
       "    <tr>\n",
       "      <th>1</th>\n",
       "      <td>2020-05-15 00:15:00</td>\n",
       "      <td>4135001</td>\n",
       "      <td>HmiyD2TTLFNqkNe</td>\n",
       "      <td>25.084589</td>\n",
       "      <td>22.761668</td>\n",
       "      <td>0.0</td>\n",
       "    </tr>\n",
       "    <tr>\n",
       "      <th>2</th>\n",
       "      <td>2020-05-15 00:30:00</td>\n",
       "      <td>4135001</td>\n",
       "      <td>HmiyD2TTLFNqkNe</td>\n",
       "      <td>24.935753</td>\n",
       "      <td>22.592306</td>\n",
       "      <td>0.0</td>\n",
       "    </tr>\n",
       "    <tr>\n",
       "      <th>3</th>\n",
       "      <td>2020-05-15 00:45:00</td>\n",
       "      <td>4135001</td>\n",
       "      <td>HmiyD2TTLFNqkNe</td>\n",
       "      <td>24.846130</td>\n",
       "      <td>22.360852</td>\n",
       "      <td>0.0</td>\n",
       "    </tr>\n",
       "    <tr>\n",
       "      <th>4</th>\n",
       "      <td>2020-05-15 01:00:00</td>\n",
       "      <td>4135001</td>\n",
       "      <td>HmiyD2TTLFNqkNe</td>\n",
       "      <td>24.621525</td>\n",
       "      <td>22.165423</td>\n",
       "      <td>0.0</td>\n",
       "    </tr>\n",
       "  </tbody>\n",
       "</table>\n",
       "</div>"
      ],
      "text/plain": [
       "             DATE_TIME  PLANT_ID       SOURCE_KEY  AMBIENT_TEMPERATURE  \\\n",
       "0  2020-05-15 00:00:00   4135001  HmiyD2TTLFNqkNe            25.184316   \n",
       "1  2020-05-15 00:15:00   4135001  HmiyD2TTLFNqkNe            25.084589   \n",
       "2  2020-05-15 00:30:00   4135001  HmiyD2TTLFNqkNe            24.935753   \n",
       "3  2020-05-15 00:45:00   4135001  HmiyD2TTLFNqkNe            24.846130   \n",
       "4  2020-05-15 01:00:00   4135001  HmiyD2TTLFNqkNe            24.621525   \n",
       "\n",
       "   MODULE_TEMPERATURE  IRRADIATION  \n",
       "0           22.857507          0.0  \n",
       "1           22.761668          0.0  \n",
       "2           22.592306          0.0  \n",
       "3           22.360852          0.0  \n",
       "4           22.165423          0.0  "
      ]
     },
     "execution_count": 17,
     "metadata": {},
     "output_type": "execute_result"
    }
   ],
   "source": [
    "weather1 = pd.read_csv(\"Plant_1_Weather_Sensor_Data.csv\")\n",
    "weather1.head()"
   ]
  },
  {
   "cell_type": "code",
   "execution_count": 21,
   "metadata": {},
   "outputs": [
    {
     "name": "stdout",
     "output_type": "stream",
     "text": [
      "<class 'pandas.core.frame.DataFrame'>\n",
      "RangeIndex: 3182 entries, 0 to 3181\n",
      "Data columns (total 6 columns):\n",
      " #   Column               Non-Null Count  Dtype  \n",
      "---  ------               --------------  -----  \n",
      " 0   DATE_TIME            3182 non-null   object \n",
      " 1   PLANT_ID             3182 non-null   int64  \n",
      " 2   SOURCE_KEY           3182 non-null   object \n",
      " 3   AMBIENT_TEMPERATURE  3182 non-null   float64\n",
      " 4   MODULE_TEMPERATURE   3182 non-null   float64\n",
      " 5   IRRADIATION          3182 non-null   float64\n",
      "dtypes: float64(3), int64(1), object(2)\n",
      "memory usage: 149.3+ KB\n"
     ]
    }
   ],
   "source": [
    "weather1.info()"
   ]
  },
  {
   "cell_type": "code",
   "execution_count": 20,
   "metadata": {},
   "outputs": [
    {
     "data": {
      "image/png": "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",
      "text/plain": [
       "<Figure size 1440x1080 with 4 Axes>"
      ]
     },
     "metadata": {
      "needs_background": "light"
     },
     "output_type": "display_data"
    }
   ],
   "source": [
    "import matplotlib.pyplot as plt\n",
    "weather1.hist(bins=50, figsize=(20,15))\n",
    "plt.show()"
   ]
=======
   "execution_count": 1,
   "source": [],
   "outputs": [
    {
     "output_type": "stream",
     "name": "stdout",
     "text": [
      "Hello world\n"
     ]
    }
   ],
   "metadata": {}
>>>>>>> faf57b181296fe239fa8645bbad30f280ae65754
  }
 ],
 "metadata": {
  "interpreter": {
<<<<<<< HEAD
   "hash": "b1b01ef8c97daba961190247903c8d61e5dc4a844265e5e156c14a54bd1266b5"
  },
  "kernelspec": {
   "display_name": "Python 3.8.8 64-bit ('base': conda)",
   "name": "python3"
=======
   "hash": "63fd5069d213b44bf678585dea6b12cceca9941eaf7f819626cde1f2670de90d"
  },
  "kernelspec": {
   "name": "python3",
   "display_name": "Python 3.9.6 64-bit"
>>>>>>> faf57b181296fe239fa8645bbad30f280ae65754
  },
  "language_info": {
   "codemirror_mode": {
    "name": "ipython",
    "version": 3
   },
   "file_extension": ".py",
   "mimetype": "text/x-python",
   "name": "python",
<<<<<<< HEAD
   "nbconvert_exporter": "python",
   "pygments_lexer": "ipython3",
   "version": "3.8.8"
=======
   "version": "3.9.6",
   "mimetype": "text/x-python",
   "codemirror_mode": {
    "name": "ipython",
    "version": 3
   },
   "pygments_lexer": "ipython3",
   "nbconvert_exporter": "python",
   "file_extension": ".py"
>>>>>>> faf57b181296fe239fa8645bbad30f280ae65754
  },
  "orig_nbformat": 4
 },
 "nbformat": 4,
 "nbformat_minor": 2
}