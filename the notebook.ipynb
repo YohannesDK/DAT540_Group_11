{
 "cells": [
  {
   "cell_type": "code",
   "execution_count": null,
   "source": [
    "# Testing some merge stuff"
   ],
   "outputs": [],
   "metadata": {}
  }
 ],
 "metadata": {
  "interpreter": {
   "hash": "1d05f50fb60ad503ea33114676c8444ff7057bb95c3018e1d100ae62a4dc66c7"
  },
  "kernelspec": {
   "display_name": "Python 3.8.3rc1 64-bit",
   "language": "python",
   "name": "python3"
  },
  "language_info": {
   "name": "python",
   "version": "3.8.3"
  },
  "orig_nbformat": 4
 },
 "nbformat": 4,
 "nbformat_minor": 2
}